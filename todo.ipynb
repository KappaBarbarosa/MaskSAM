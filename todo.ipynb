{
 "cells": [
  {
   "cell_type": "code",
   "execution_count": null,
   "metadata": {},
   "outputs": [],
   "source": []
  },
  {
   "cell_type": "markdown",
   "metadata": {},
   "source": [
    "# Todo List\n",
    "\n",
    "## Todo Item 1\n",
    "\n",
    "**Description:** Self adustment diceloss \n",
    "\n",
    "**Schedule:** \n",
    "\n",
    "**Completed:** \n",
    "\n",
    "## Todo Item 2\n",
    "\n",
    "**Description:** monai dicefocal loss\n",
    "\n",
    "**Schedule:** \n",
    "\n",
    "**Completed:** \n",
    "\n",
    "## Todo Item 3  \n",
    "\n",
    "**Description:** Comput loss in low dimention\n",
    "\n",
    "**Schedule:** \n",
    "\n",
    "**Completed:** \n",
    "\n",
    "## Todo Item 4  \n",
    "\n",
    "**Description:** Try other datasets\n",
    "\n",
    "**Schedule:** \n",
    "\n",
    "**Completed:** \n"
   ]
  },
  {
   "cell_type": "markdown",
   "metadata": {},
   "source": []
  }
 ],
 "metadata": {
  "language_info": {
   "name": "python"
  }
 },
 "nbformat": 4,
 "nbformat_minor": 2
}
