{
 "cells": [
  {
   "cell_type": "code",
   "execution_count": 1,
   "metadata": {},
   "outputs": [
    {
     "name": "stdout",
     "output_type": "stream",
     "text": [
      "{1: 'spleen', 2: 'right kidney', 3: 'left kidney', 4: 'gallbladder', 5: 'liver', 6: 'stomach', 7: 'aorta', 8: 'pancreas'}\n"
     ]
    }
   ],
   "source": [
    "import SimpleITK as sitk\n",
    "import matplotlib.pyplot as plt\n",
    "\n",
    "import os\n",
    "import sys\n",
    "from tqdm import tqdm\n",
    "import logging\n",
    "import numpy as np\n",
    "import argparse\n",
    "import random\n",
    "import numpy as np\n",
    "import torch\n",
    "from torch.utils.data import DataLoader\n",
    "import torch.backends.cudnn as cudnn\n",
    "from importlib import import_module\n",
    "from scipy.ndimage import zoom\n",
    "from icecream import ic\n",
    "\n",
    "annotation_list = [\n",
    "    \"spleen\",\n",
    "    \"right kidney\",\n",
    "    \"left kidney\",\n",
    "    \"gallbladder\",\n",
    "    \"esophagus\",\n",
    "    \"liver\",\n",
    "    \"stomach\",\n",
    "    \"aorta\",\n",
    "    \"inferior_vena_cava\",\n",
    "    \"portal_vein_and_splenic_vein\",\n",
    "    \"pancreas\",\n",
    "    \"right_adrenal_gland\",\n",
    "    \"left_adrenal_gland\"\n",
    "]\n",
    "class_to_name = {1: 'spleen', 2: 'right kidney', 3: 'left kidney', 4: 'gallbladder', 5: 'liver', 6: 'stomach', 7: 'aorta', 8: 'pancreas'}\n",
    "print(class_to_name)"
   ]
  },
  {
   "cell_type": "code",
   "execution_count": 36,
   "metadata": {},
   "outputs": [
    {
     "data": {
      "text/plain": [
       "<SimpleITK.SimpleITK.TransformixImageFilter; proxy of <Swig Object of type 'itk::simple::TransformixImageFilter::Self *' at 0x7fc95cb37360> >"
      ]
     },
     "execution_count": 36,
     "metadata": {},
     "output_type": "execute_result"
    }
   ],
   "source": [
    "def Regist(elastix,trasform,move_path,save_dir=''):\n",
    "    data = np.load(move_path)\n",
    "    image = sitk.GetImageFromArray(data['image'])\n",
    "    label = sitk.GetImageFromArray(data['label'])\n",
    "    elastix.SetMovingImage(image)\n",
    "    parameterMap1= sitk.GetDefaultParameterMap(\"affine\")\n",
    "    parameterMap1['MaximumNumberOfIterations'] = ['256']\n",
    "    elastix.SetParameterMap([parameterMap1])\n",
    "    elastix.Execute()\n",
    "    regist_image = elastix.GetResultImage()\n",
    "    regist_image = np.array(sitk.GetArrayFromImage(regist_image))\n",
    "    Tx = elastix.GetTransformParameterMap()\n",
    "    param_save_dir = move_path[10:].replace('.npz','')\n",
    "    param_save_dir = f'/work/chen0063/Reg_Param_map/{param_save_dir}.0.txt'\n",
    "    sitk.WriteParameterFile(Tx[0],param_save_dir)\n",
    "    trasform.SetTransformParameterMap(Tx)\n",
    "    trasform.SetMovingImage(label)\n",
    "    transformixImageFilter.Execute()\n",
    "    regist_label = transformixImageFilter.GetResultImage()\n",
    "    regist_label = np.array(sitk.GetArrayFromImage(regist_label))\n",
    "    regist_label = np.round(regist_label, decimals=0)\n",
    "    if save_dir != \"\" :\n",
    "        np.savez(save_dir,image = regist_image, label = regist_label)\n",
    "    data.close()\n",
    "    return regist_image,regist_label\n",
    "import SimpleITK as sitk \n",
    "source1 = np.load('train_npz/case0009_slice075.npz')['image']\n",
    "source = sitk.GetImageFromArray(source1)\n",
    "elastixImageFilter = sitk.ElastixImageFilter()\n",
    "elastixImageFilter.SetFixedImage(source)\n",
    "transformixImageFilter = sitk.TransformixImageFilter()\n",
    "elastixImageFilter.LogToConsoleOff()\n",
    "transformixImageFilter.LogToConsoleOff()"
   ]
  },
  {
   "cell_type": "code",
   "execution_count": null,
   "metadata": {},
   "outputs": [],
   "source": [
    "from tqdm import tqdm\n",
    "reg_path = 'train_reg'\n",
    "for idx, npz_file in enumerate(tqdm(train_files)):\n",
    "    npz_path = 'train_npz/' + npz_file\n",
    "    Regist(elastixImageFilter,transformixImageFilter,npz_path, os.path.join(reg_path,npz_file))"
   ]
  },
  {
   "cell_type": "code",
   "execution_count": 2,
   "metadata": {},
   "outputs": [],
   "source": [
    "import os\n",
    "train_files = sorted([filename for filename in os.listdir('/work/chen0063/Synapse/train_npz')])\n",
    "random.shuffle(train_files)"
   ]
  },
  {
   "cell_type": "code",
   "execution_count": 8,
   "metadata": {
    "scrolled": true,
    "tags": []
   },
   "outputs": [
    {
     "name": "stderr",
     "output_type": "stream",
     "text": [
      "100%|██████████| 3779/3779 [00:06<00:00, 556.26it/s]"
     ]
    },
    {
     "name": "stdout",
     "output_type": "stream",
     "text": [
      "[0, 0, 0, 0, 0, 0, 0, 0]\n",
      "0 0 2211\n"
     ]
    },
    {
     "name": "stderr",
     "output_type": "stream",
     "text": [
      "\n"
     ]
    }
   ],
   "source": [
    "from tqdm import tqdm\n",
    "import cv2\n",
    "test_list=[8,22,38,36,32,2,29,3,1,4,25,35]\n",
    "val_list = [1,8,25,38]\n",
    "# Cache_train=[]\n",
    "Data_train=[]\n",
    "train_list= {}\n",
    "Data_val=[]\n",
    "Data_test=[]\n",
    "Count = [532, 547, 543, 114, 911, 594, 1215, 215]\n",
    "cur_list=Cache_train\n",
    "BlankCount= [0] * len(class_to_name)\n",
    "cur_case=0\n",
    "cur_slice=0\n",
    "for idx, npz_file in enumerate(tqdm(train_files)):\n",
    "    case_number = int(npz_file.split('_')[0][4:])\n",
    "    slice_number = int(npz_file.split('_')[1][5:].replace('.npz',''))\n",
    "    \n",
    "    npz_path = '/work/chen0063/Synapse/train_npz/' + npz_file\n",
    "#     npz_path = '/work/chen/SAMed_old/train_npz/' + npz_file\n",
    "    if case_number in test_list:\n",
    "\n",
    "        cur_list = Data_test\n",
    "    else:\n",
    "        cur_list = Data_train\n",
    "    data  = np.load(npz_path)\n",
    "    label =   data['label']\n",
    "    get_lb_items(npz_file,label,case_number,slice_number,cur_list,case_number not in test_list,BlankCount)\n",
    "#     print(BlankCount)\n",
    "    if case_number in val_list:\n",
    "        get_lb_items(npz_file,label,case_number,slice_number,Data_val,False)\n",
    "    data.close()\n",
    "print(BlankCount)\n",
    "print(len(Data_val),len(Data_test),len(Cache_train))"
   ]
  },
  {
   "cell_type": "code",
   "execution_count": 13,
   "metadata": {},
   "outputs": [
    {
     "data": {
      "text/plain": [
       "array([0.31685527, 0.32872596, 0.32553957, 0.11497731, 0.70076923,\n",
       "       0.36734694, 1.21987952, 0.24143739])"
      ]
     },
     "execution_count": 13,
     "metadata": {},
     "output_type": "execute_result"
    }
   ],
   "source": [
    "Count = np.array([532, 547, 543, 228, 911, 594, 1215, 430])\n",
    "NegCount = 2211-Count\n",
    "NegCount\n",
    "ohem_ratio = Count/NegCount\n",
    "ohem_ratio"
   ]
  },
  {
   "cell_type": "code",
   "execution_count": 7,
   "metadata": {},
   "outputs": [],
   "source": [
    "from scipy.ndimage import zoom\n",
    "def get_lb_items(npz_path,label,case_number,slice_number,TIPList,istrain=False,BlankCount=[]):\n",
    "    items = {}\n",
    "    for i in range(1, 9):\n",
    "        mask = label == i\n",
    "        if np.all(mask == 0): \n",
    "            if istrain and BlankCount[i-1]>Count[i-1]:\n",
    "                continue  \n",
    "            else :\n",
    "                savedir = 'NULL.npz'    \n",
    "                BlankCount[i-1]+=1\n",
    "        else:\n",
    "            savedir = f'{case_number}_{slice_number}_{class_to_name[i]}_.npz' \n",
    "        TIPList.append([npz_path,i-1,savedir,case_number,slice_number])\n",
    "    return \n",
    "def save_lb_items(npz_path,label,case_number,slice_number,TIPList,istrain=False,BlankCount=[]):\n",
    "    items = {}\n",
    "    for i in range(1, 9):\n",
    "        mask = label == i\n",
    "        if np.all(mask == 0): \n",
    "            items.update({i-1:\"\"})\n",
    "        else:  \n",
    "            savedir = f'{case_number}_{slice_number}_{class_to_name[i]}_.npz' \n",
    "#             np.savez(savedir,image=mask)\n",
    "            items.update({i-1:savedir})\n",
    "    TIPList.append([npz_path,items,'',case_number,slice_number])\n",
    "    return"
   ]
  },
  {
   "cell_type": "code",
   "execution_count": 9,
   "metadata": {},
   "outputs": [],
   "source": [
    "import json\n",
    "dc_tip1={}\n",
    "dc_tip2={}\n",
    "# dc_tip1.update({'train':Data_train})\n",
    "# dc_tip1.update({'val'  :Data_val})\n",
    "# dc_tip1.update({'test' :Data_test})\n",
    "dc_tip2.update({'train':Cache_train})\n",
    "dc_tip2.update({'val':[]})\n",
    "dc_tip2.update({'test':[]})\n",
    "\n",
    "# with open('/work/chen0063/Synapse/data_notall_shuffle.json', 'w+') as f:\n",
    "#     json.dump(dc_tip1, f)\n",
    "with open('/work/chen0063/Synapse/cache.json', 'w+') as f:\n",
    "    json.dump(dc_tip2, f)"
   ]
  },
  {
   "cell_type": "code",
   "execution_count": 2,
   "metadata": {},
   "outputs": [
    {
     "data": {
      "text/plain": [
       "<All keys matched successfully>"
      ]
     },
     "execution_count": 2,
     "metadata": {},
     "output_type": "execute_result"
    }
   ],
   "source": [
    "import torch\n",
    "import torch.nn.functional as F\n",
    "import torch.nn as nn\n",
    "class Transpose_Layer(nn.Module):\n",
    "    def __init__(self):\n",
    "        super(Transpose_Layer, self).__init__()\n",
    "        self.model = nn.Conv2d(in_channels=256, out_channels=1,kernel_size=1)\n",
    "    def forward(self,x):\n",
    "        return self.model(x)\n",
    "b = Transpose_Layer()\n",
    "b.load_state_dict(torch.load('/home/chen0063/SINICA/tp.pth'))\n"
   ]
  },
  {
   "cell_type": "code",
   "execution_count": 3,
   "metadata": {},
   "outputs": [
    {
     "name": "stdout",
     "output_type": "stream",
     "text": [
      "Models' weights are the same.\n"
     ]
    }
   ],
   "source": [
    "model1 = Transpose_Layer()\n",
    "model2 = Transpose_Layer()\n",
    "\n",
    "# Load weights into the models\n",
    "\n",
    "\n",
    "# Compare weights\n",
    "for p1, p2 in zip(a.parameters(), b.parameters()):\n",
    "    if p1.data.ne(p2.data).sum() > 0:\n",
    "        print(\"Models' weights are different.\")\n",
    "        break\n",
    "else:\n",
    "    print(\"Models' weights are the same.\")"
   ]
  },
  {
   "cell_type": "code",
   "execution_count": 9,
   "metadata": {},
   "outputs": [
    {
     "name": "stdout",
     "output_type": "stream",
     "text": [
      "Thu Mar  7 20:16:32 2024       \r\n",
      "+-----------------------------------------------------------------------------+\r\n",
      "| NVIDIA-SMI 470.161.03   Driver Version: 470.161.03   CUDA Version: 11.4     |\r\n",
      "|-------------------------------+----------------------+----------------------+\r\n",
      "| GPU  Name        Persistence-M| Bus-Id        Disp.A | Volatile Uncorr. ECC |\r\n",
      "| Fan  Temp  Perf  Pwr:Usage/Cap|         Memory-Usage | GPU-Util  Compute M. |\r\n",
      "|                               |                      |               MIG M. |\r\n",
      "|===============================+======================+======================|\r\n",
      "|   0  NVIDIA GeForce ...  Off  | 00000000:1D:00.0 Off |                  N/A |\r\n",
      "| 30%   41C    P2   106W / 350W |    653MiB / 24268MiB |      0%      Default |\r\n",
      "|                               |                      |                  N/A |\r\n",
      "+-------------------------------+----------------------+----------------------+\r\n",
      "                                                                               \r\n",
      "+-----------------------------------------------------------------------------+\r\n",
      "| Processes:                                                                  |\r\n",
      "|  GPU   GI   CI        PID   Type   Process name                  GPU Memory |\r\n",
      "|        ID   ID                                                   Usage      |\r\n",
      "|=============================================================================|\r\n",
      "+-----------------------------------------------------------------------------+\r\n"
     ]
    }
   ],
   "source": [
    "!nvidia-smi"
   ]
  },
  {
   "cell_type": "code",
   "execution_count": null,
   "metadata": {},
   "outputs": [],
   "source": [
    "with open('/work/chen0063/organ_label_withtext/TrainData_v3.json', 'w+') as f:\n",
    "    json.dump(dc_tip1, f)"
   ]
  },
  {
   "cell_type": "code",
   "execution_count": 27,
   "metadata": {},
   "outputs": [
    {
     "name": "stdout",
     "output_type": "stream",
     "text": [
      "torch.Size([20, 10]) torch.Size([20, 1]) torch.Size([20, 10])\n",
      "1.0 0.03133344650268555 0.003215312957763672\n"
     ]
    }
   ],
   "source": [
    "import torch\n",
    "import time\n",
    "import numpy as np\n",
    "def original_code(target_rows, logits, target_cases, case, is_train, mask_size, device):\n",
    "    masks = torch.zeros((len(target_rows), len(target_rows[0]), mask_size, mask_size)).to(device)\n",
    "    for i, target_row in enumerate(target_rows):\n",
    "        logit = torch.where(logits[i] < logits[i].mean(), logits[i].min(), logits[i])\n",
    "        for j, target in enumerate(target_row):\n",
    "            if not is_train:\n",
    "                masks[i, j] = logit[j] * target\n",
    "            else:\n",
    "                if target_cases[i,j] != case[i]:\n",
    "                    masks[i, j] = logit[j] * target \n",
    "                else:\n",
    "                    masks[i, j] = 0\n",
    "    masks = torch.sum(masks, axis=1)\n",
    "    return masks\n",
    "\n",
    "def optimized_code(target_rows, logits, target_cases, case, is_train, mask_size, device):\n",
    "    mean_values = logits.mean(dim=1, keepdim=True)\n",
    "    logits = torch.where(logits < mean_values, logits.min(dim=1, keepdim=True)[0], logits)\n",
    "    if is_train:\n",
    "        equal_to_case = (target_cases == case)\n",
    "        print(target_cases.shape,case.shape,equal_to_case.shape)\n",
    "        target_rows[equal_to_case] = 0\n",
    "        logits[equal_to_case] = 0\n",
    "    logits_expanded = logits.unsqueeze(-1).unsqueeze(-1)\n",
    "    masks = logits_expanded * target_rows\n",
    "    masks = torch.sum(masks, axis=1)\n",
    "    return masks\n",
    "\n",
    "# 示例数据\n",
    "def Test():\n",
    "    mask_size=128\n",
    "    device = 'cuda:1'\n",
    "    bs=20\n",
    "    ms_num = 10\n",
    "    target_rows = torch.randn(bs,ms_num,mask_size,mask_size).to(device)\n",
    "    logits = torch.randn(bs,ms_num).to(device)\n",
    "    target_cases = torch.randint(0, 10, size=(bs, ms_num))\n",
    "    case = torch.randint(0, 10, size=(bs, 1))\n",
    "    is_train = True\n",
    "    \n",
    "    start = time.time()\n",
    "    original_result = original_code(target_rows, logits, target_cases, case, is_train, mask_size, device)\n",
    "    end = time.time()\n",
    "    Or_time = (end - start)\n",
    "    \n",
    "    optimized_result = optimized_code(target_rows, logits, target_cases, case, is_train, mask_size, device)\n",
    "    Op_time = (time.time() - end)\n",
    "    \n",
    "    return torch.allclose(original_result, optimized_result), Or_time,Op_time\n",
    "result=[]\n",
    "OR=[]\n",
    "OP=[]\n",
    "for i in range(1):\n",
    "    r,_or,op = Test()\n",
    "    result.append(r)\n",
    "    OR.append(_or)\n",
    "    OP.append(op)\n",
    "print(np.mean(result),np.mean(OR),np.mean(OP))"
   ]
  },
  {
   "cell_type": "code",
   "execution_count": 166,
   "metadata": {},
   "outputs": [
    {
     "name": "stdout",
     "output_type": "stream",
     "text": [
      "tensor([[-0.0638, -0.9983, -0.0749,  2.8708,  0.9117],\n",
      "        [-0.4849,  0.3502,  1.1255, -0.2476,  0.9749],\n",
      "        [ 0.0963, -0.7012, -1.0370,  0.3085,  0.3767]])\n",
      "tensor([[-0.9983, -0.9983, -0.9983,  2.8708,  0.9117],\n",
      "        [-0.4849,  0.3502,  1.1255, -0.4849,  0.9749],\n",
      "        [ 0.0963, -1.0370, -1.0370,  0.3085,  0.3767]])\n"
     ]
    }
   ],
   "source": [
    "import torch\n",
    "\n",
    "# 假设logits是一个二维张量，形状为 (batch_size, num_classes)\n",
    "logits = torch.randn(3, 5)  # 举例\n",
    "\n",
    "# 计算每行的均值\n",
    "mean_values = logits.mean(dim=1, keepdim=True)\n",
    "print(logits)\n",
    "# 找出每行小于均值的元素并替换为对应行的最小值\n",
    "logits = torch.where(logits < mean_values, logits.min(dim=1, keepdim=True)[0], logits)\n",
    "\n",
    "print(logits)"
   ]
  },
  {
   "cell_type": "code",
   "execution_count": null,
   "metadata": {},
   "outputs": [],
   "source": [
    "len(Data['train']),len(Data_train),len(Data['test']),len(Data_test)"
   ]
  },
  {
   "cell_type": "code",
   "execution_count": 13,
   "metadata": {},
   "outputs": [],
   "source": [
    "def data_static(data):\n",
    "    unique_cases = set(item[0].split('/')[-1].split('_')[0] for item in data)\n",
    "    num_unique_cases = len(unique_cases)\n",
    "\n",
    "    print(\"總共有 {} 個不同的case。\".format(num_unique_cases))\n",
    "    print(\"分別是：\", ', '.join(unique_cases))"
   ]
  },
  {
   "cell_type": "code",
   "execution_count": null,
   "metadata": {},
   "outputs": [],
   "source": [
    "def Cache2Train(datas,nullpath=\"/work/chen0063/organ_label_withtext_reg/NULL.npz\"):\n",
    "    train=[]\n",
    "    for data in datas:\n",
    "        for key,value in data[1].items():\n",
    "            mask_path = nullpath if value=='' else value\n",
    "            train.append([data[0],key,mask_path,data[3]])\n",
    "    return train"
   ]
  },
  {
   "cell_type": "code",
   "execution_count": null,
   "metadata": {},
   "outputs": [],
   "source": [
    "train = Cache2Train(Cache['train'])\n",
    "test = Cache2Train(Cache['test'])\n",
    "print(len(Cache['train']),len(train),len(Cache['test']),len(test))"
   ]
  },
  {
   "cell_type": "code",
   "execution_count": null,
   "metadata": {},
   "outputs": [],
   "source": [
    "\n",
    "with open('/work/chen0063/organ_label_withtext/Cache_v2.json', 'w+') as f:\n",
    "    json.dump(Cache, f)\n",
    "with open('/work/chen0063/organ_label_withtext/TrainData_v2.json', 'w+') as f:\n",
    "    json.dump(Data, f)"
   ]
  },
  {
   "cell_type": "code",
   "execution_count": null,
   "metadata": {},
   "outputs": [],
   "source": [
    "def transform_data(data):\n",
    "    converted_data = []\n",
    "    dict1={}\n",
    "    cur_case=-1\n",
    "    for item in data:\n",
    "        path0,idx,organ_path,case = item\n",
    "        if path0 in dict1:\n",
    "            v = dict1[path0]\n",
    "            converted_data[v][1][str(idx)] = organ_path\n",
    "        else:\n",
    "            converted_item =[path0, {'0': '','1': '','2': '','3': '','4': '','5': '','6': '','7': ''},'',case]\n",
    "            dict1[path0] = len(converted_data)\n",
    "            converted_data.append(converted_item)\n",
    "            converted_data[dict1[path0]][1][str(idx)] = organ_path\n",
    "    return converted_data\n",
    "# data4={'train':[],'val':[],'test:':[]}\n",
    "data5={'train':[],'val':[],'test':data3['test']}\n",
    "data5['train'] = transform_data(data4['train'])\n",
    "# data4['train'] = included_data\n",
    "# data4['test']  = data2['test']\n",
    "# data_static(data4['train'])\n",
    "data_static(data5['train'])\n",
    "with open('/work/chen0063/organ_label_withtext_reg/data_text_all.json', 'w+') as f:\n",
    "    json.dump(data5, f)\n",
    "# with open('/work/chen0063/organ_label_withtext_reg/data_v4.json', 'w+') as f:\n",
    "#     json.dump(data4, f)"
   ]
  },
  {
   "cell_type": "code",
   "execution_count": null,
   "metadata": {},
   "outputs": [],
   "source": [
    "data5['test']"
   ]
  },
  {
   "cell_type": "code",
   "execution_count": null,
   "metadata": {},
   "outputs": [],
   "source": [
    "def Regist(elastix,trasform,move_path,save_dir=''):\n",
    "    data = np.load(move_path)\n",
    "    image = sitk.GetImageFromArray(data['image'])\n",
    "    label = sitk.GetImageFromArray(data['label'])\n",
    "    elastix.SetMovingImage(image)\n",
    "    parameterMap1= sitk.GetDefaultParameterMap(\"affine\")\n",
    "    parameterMap1['MaximumNumberOfIterations'] = ['256']\n",
    "    elastix.SetParameterMap([parameterMap1])\n",
    "    elastix.Execute()\n",
    "    regist_image = elastix.GetResultImage()\n",
    "    regist_image = np.array(sitk.GetArrayFromImage(regist_image))\n",
    "    Tx = elastix.GetTransformParameterMap()\n",
    "    param_save_dir = move_path[10:].replace('.npz','')\n",
    "    param_save_dir = f'/work/chen0063/Reg_Param_map/{param_save_dir}.0.txt'\n",
    "    sitk.WriteParameterFile(Tx[0],param_save_dir)\n",
    "    trasform.SetTransformParameterMap(Tx)\n",
    "    trasform.SetMovingImage(label)\n",
    "    transformixImageFilter.Execute()\n",
    "    regist_label = transformixImageFilter.GetResultImage()\n",
    "    regist_label = np.array(sitk.GetArrayFromImage(regist_label))\n",
    "    regist_label = np.round(regist_label, decimals=0)\n",
    "    if save_dir != \"\" :\n",
    "        np.savez(save_dir,image = regist_image, label = regist_label)\n",
    "    data.close()\n",
    "    return regist_image,regist_label"
   ]
  },
  {
   "cell_type": "code",
   "execution_count": null,
   "metadata": {},
   "outputs": [],
   "source": [
    "import copy\n",
    "import numpy as np\n",
    "'''\n",
    "Regist_dic是一張圖片配上她的所有label Regist_list是一張圖片一張label\n",
    "'''\n",
    "def Regist_dic(elastix,trasform,item,istest):\n",
    "    # copy the item\n",
    "    reg_item = copy.deepcopy(item) \n",
    "    \n",
    "    # set save path\n",
    "    if istest:\n",
    "        reg_item[0] = reg_item[0].replace('test','train')\n",
    "#     data = np.load(reg_item[0])\n",
    "    reg_item[0] = reg_item[0].replace('train_npz','/work/chen0063/train_reg')\n",
    "        \n",
    "    # get image data\n",
    "#     image = sitk.GetImageFromArray(data['image'])\n",
    "    \n",
    "#     # transform setting \n",
    "#     elastix.SetMovingImage(image)\n",
    "#     parameterMap1= sitk.GetDefaultParameterMap(\"affine\")\n",
    "#     parameterMap1['MaximumNumberOfIterations'] = ['128']\n",
    "#     elastix.SetParameterMap([parameterMap1])\n",
    "#     elastix.Execute()\n",
    "    \n",
    "#     # save regist image\n",
    "#     regist_image = elastix.GetResultImage()\n",
    "#     regist_image = np.array(sitk.GetArrayFromImage(regist_image))\n",
    "#     np.savez(reg_item[0],image = regist_image)\n",
    "    \n",
    "#     # save TransformParameterMap\n",
    "#     Tx = elastix.GetTransformParameterMap()\n",
    "#     param_save_dir = reg_item[0][25:].replace('.npz','')\n",
    "#     param_save_dir = f'/work/chen0063/Reg_Param_map/{param_save_dir}.0.txt'\n",
    "#     sitk.WriteParameterFile(Tx[0],param_save_dir)\n",
    "    \n",
    "    # regist different label\n",
    "#     trasform.SetTransformParameterMap(Tx)\n",
    "    for key, value in item[1].items():\n",
    "        if value!= '':\n",
    "            nv = copy.deepcopy(value)\n",
    "            reg_item[1][key] = '/work/chen0063/'+nv.replace('text','text_reg')\n",
    "#             label = np.load(value)['image'].astype(int)\n",
    "#             label1 = sitk.GetImageFromArray(label)\n",
    "#             trasform.SetMovingImage(label1)\n",
    "#             trasform.Execute()\n",
    "#             regist_label = trasform.GetResultImage()\n",
    "#             regist_label = np.array(sitk.GetArrayFromImage(regist_label))\n",
    "#             regist_label = np.round(regist_label)\n",
    "#             np.savez(reg_item[1][key],image = regist_label)\n",
    "    print(item[0],reg_item[0])\n",
    "    return reg_item\n",
    "temp=\"\"\n",
    "def Regist_list(elastix,trasform,item,istest):\n",
    "    global temp\n",
    "    # copy the item\n",
    "    reg_item = copy.deepcopy(item) \n",
    "    # set save path\n",
    "    reg_item[0] = reg_item[0].replace('train_npz','/work/chen0063/train_reg')\n",
    "    temp = reg_item[0]\n",
    "    if(temp!= reg_item[0]):\n",
    "        if istest:\n",
    "            reg_item[0] = reg_item[0].replace('test','train')\n",
    "        temp = reg_item[0]\n",
    "        data = np.load(reg_item[0])\n",
    "        reg_item[0] = reg_item[0].replace('train_npz','/work/chen0063/train_reg')\n",
    "\n",
    "        # get image data\n",
    "        image = sitk.GetImageFromArray(data['image'])\n",
    "\n",
    "        # transform setting \n",
    "        elastix.SetMovingImage(image)\n",
    "        parameterMap1= sitk.GetDefaultParameterMap(\"affine\")\n",
    "        parameterMap1['MaximumNumberOfIterations'] = ['128']\n",
    "        elastix.SetParameterMap([parameterMap1])\n",
    "        elastix.Execute()\n",
    "\n",
    "        # save regist image\n",
    "        regist_image = elastix.GetResultImage()\n",
    "        regist_image = np.array(sitk.GetArrayFromImage(regist_image))\n",
    "        np.savez(reg_item[0],image = regist_image)\n",
    "\n",
    "        # save TransformParameterMap\n",
    "        Tx = elastix.GetTransformParameterMap()\n",
    "        param_save_dir = reg_item[0][25:].replace('.npz','')\n",
    "        param_save_dir = f'/work/chen0063/Reg_Param_map/{param_save_dir}.0.txt'\n",
    "        sitk.WriteParameterFile(Tx[0],param_save_dir)\n",
    "\n",
    "        # regist different label\n",
    "        trasform.SetTransformParameterMap(Tx)\n",
    "#     label = np.load(item[2])['image'].astype(int)\n",
    "    nv = copy.deepcopy(item[2])\n",
    "    reg_item[2] = nv.replace('organ_label_withtext','/work/chen0063/organ_label_withtext_reg')\n",
    "#     label1 = sitk.GetImageFromArray(label)\n",
    "#     trasform.SetMovingImage(label1)\n",
    "#     trasform.Execute()\n",
    "#     regist_label = np.array(sitk.GetArrayFromImage(trasform.GetResultImage()))\n",
    "#     regist_label = np.round(regist_label)\n",
    "#     np.savez(reg_item[2],image = regist_label)\n",
    "    print(item[0],reg_item[0])\n",
    "    return reg_item\n",
    "import SimpleITK as sitk \n",
    "source1 = np.load('train_npz/case0009_slice075.npz')['image']\n",
    "source = sitk.GetImageFromArray(source1)\n",
    "elastix = sitk.ElastixImageFilter()\n",
    "elastix.SetFixedImage(source)\n",
    "transform = sitk.TransformixImageFilter()\n",
    "elastix.LogToConsoleOff()\n",
    "transform.LogToConsoleOff()"
   ]
  },
  {
   "cell_type": "code",
   "execution_count": null,
   "metadata": {},
   "outputs": [],
   "source": [
    "import json\n",
    "with open('organ_label_withtext/data_v3.json', 'r') as f:\n",
    "    data = json.load(f)\n",
    "with open('organ_label_withtext/data_text_v3.json', 'r') as f:\n",
    "    data1 = json.load(f)"
   ]
  },
  {
   "cell_type": "code",
   "execution_count": 20,
   "metadata": {},
   "outputs": [
    {
     "name": "stdout",
     "output_type": "stream",
     "text": [
      "torch.Size([3, 128, 128])\n"
     ]
    }
   ],
   "source": [
    "import torch\n",
    "import torch.nn.functional as F\n",
    "B=3\n",
    "# 假设 input_tensor 是大小为 B*512*512 的张量\n",
    "input_tensor = torch.randn(B, 512, 512)\n",
    "\n",
    "# 将 input_tensor 调整为大小为 B*128*128\n",
    "output_tensor = F.interpolate(input_tensor.unsqueeze(1), size=(128, 128), mode='bilinear', align_corners=False).squeeze(1)\n",
    "\n",
    "print(output_tensor.shape)  # 输出应为 B*128*128\n"
   ]
  },
  {
   "cell_type": "code",
   "execution_count": 15,
   "metadata": {},
   "outputs": [
    {
     "ename": "NameError",
     "evalue": "name 'data' is not defined",
     "output_type": "error",
     "traceback": [
      "\u001b[0;31m---------------------------------------------------------------------------\u001b[0m",
      "\u001b[0;31mNameError\u001b[0m                                 Traceback (most recent call last)",
      "Cell \u001b[0;32mIn[15], line 6\u001b[0m\n\u001b[1;32m      4\u001b[0m reg_test\u001b[38;5;241m=\u001b[39m[]\n\u001b[1;32m      5\u001b[0m reg_train\u001b[38;5;241m=\u001b[39m[]\n\u001b[0;32m----> 6\u001b[0m \u001b[38;5;28;01mfor\u001b[39;00m d \u001b[38;5;129;01min\u001b[39;00m tqdm(\u001b[43mdata\u001b[49m[\u001b[38;5;124m'\u001b[39m\u001b[38;5;124mtrain\u001b[39m\u001b[38;5;124m'\u001b[39m]):\n\u001b[1;32m      7\u001b[0m     reg_text_test\u001b[38;5;241m.\u001b[39mappend(Regist_list(elastix,transform,d,\u001b[38;5;28;01mFalse\u001b[39;00m))\n\u001b[1;32m      8\u001b[0m \u001b[38;5;28;01mfor\u001b[39;00m d \u001b[38;5;129;01min\u001b[39;00m tqdm(data[\u001b[38;5;124m'\u001b[39m\u001b[38;5;124mtest\u001b[39m\u001b[38;5;124m'\u001b[39m]):\n",
      "\u001b[0;31mNameError\u001b[0m: name 'data' is not defined"
     ]
    }
   ],
   "source": [
    "from tqdm import tqdm\n",
    "reg_text_test=[]\n",
    "reg_text_train=[]\n",
    "reg_test=[]\n",
    "reg_train=[]\n",
    "for d in tqdm(data['train']):\n",
    "    reg_text_test.append(Regist_list(elastix,transform,d,False))\n",
    "for d in tqdm(data['test']):\n",
    "    reg_text_train.append(Regist_list(elastix,transform,d,True))\n",
    "for d in tqdm(data1['train']):\n",
    "    reg_test.append(Regist_dic(elastix,transform,d,False))\n",
    "for d in tqdm(data1['test']):\n",
    "    reg_train.append(Regist_dic(elastix,transform,d,True))"
   ]
  },
  {
   "cell_type": "code",
   "execution_count": null,
   "metadata": {},
   "outputs": [],
   "source": [
    "print(len(reg_text_test),len(reg_text_train),len(reg_test),len(reg_train))"
   ]
  },
  {
   "cell_type": "code",
   "execution_count": 25,
   "metadata": {},
   "outputs": [
    {
     "data": {
      "text/plain": [
       "(-0.5, 511.5, 511.5, -0.5)"
      ]
     },
     "execution_count": 25,
     "metadata": {},
     "output_type": "execute_result"
    },
    {
     "data": {
      "image/png": "[encoded data removed]",
      "text/plain": [
       "<Figure size 1200x400 with 1 Axes>"
      ]
     },
     "metadata": {},
     "output_type": "display_data"
    }
   ],
   "source": [
    "from PIL import Image\n",
    "test1 = np.load('train_npz/case0001_slice129.npz')\n",
    "img = test1['image'] \n",
    "plt.figure(figsize=(12, 4))\n",
    "plt.imshow(img, cmap='gray')\n",
    "plt.axis('off')\n"
   ]
  },
  {
   "cell_type": "code",
   "execution_count": 46,
   "metadata": {},
   "outputs": [],
   "source": [
    "import torch\n",
    "import torch.nn as nn\n",
    "import torch.nn.functional as F\n",
    "from torch import Tensor\n",
    "from typing import Optional\n",
    "class BinaryAdjustDiceLoss(nn.Module):\n",
    "    \"\"\"\n",
    "    Dice coefficient for short, is an F1-oriented statistic used to gauge the similarity of two sets.\n",
    "    Given two sets A and B, the vanilla dice coefficient between them is given as follows:\n",
    "        Dice(A, B)  = 2 * True_Positive / (2 * True_Positive + False_Positive + False_Negative)\n",
    "                    = 2 * |A and B| / (|A| + |B|)\n",
    "\n",
    "    Math Function:\n",
    "        U-NET: https://arxiv.org/abs/1505.04597.pdf\n",
    "        dice_loss(p, y) = 1 - numerator / denominator\n",
    "            numerator = 2 * \\sum_{1}^{t} p_i * y_i + smooth\n",
    "            denominator = \\sum_{1}^{t} p_i + \\sum_{1} ^{t} y_i + smooth\n",
    "        if square_denominator is True, the denominator is \\sum_{1}^{t} (p_i ** 2) + \\sum_{1} ^{t} (y_i ** 2) + smooth\n",
    "        V-NET: https://arxiv.org/abs/1606.04797.pdf\n",
    "    Args:\n",
    "        smooth (float, optional): a manual smooth value for numerator and denominator.\n",
    "        square_denominator (bool, optional): [True, False], specifies whether to square the denominator in the loss function.\n",
    "        with_logits (bool, optional): [True, False], specifies whether the input tensor is normalized by Sigmoid/Softmax funcs.\n",
    "        ohem_ratio: max ratio of positive/negative, defautls to 0.0, which means no ohem.\n",
    "        alpha: dsc alpha\n",
    "    \"\"\"\n",
    "    def __init__(self,\n",
    "                 smooth: Optional[float] = 1e-4,\n",
    "                 square_denominator: Optional[bool] = False,\n",
    "                 with_logits: Optional[bool] = True,\n",
    "                 ohem_ratios = [0.0],\n",
    "                 alpha: float = 0.0,\n",
    "                 reduction: Optional[str] = \"mean\",\n",
    "                 index_label_position=True) -> None:\n",
    "        super(BinaryAdjustDiceLoss, self).__init__()\n",
    "\n",
    "        self.reduction = reduction\n",
    "        self.with_logits = with_logits\n",
    "        self.smooth = smooth\n",
    "        self.square_denominator = square_denominator\n",
    "        self.ohem_ratios = ohem_ratios\n",
    "        self.alpha = alpha\n",
    "        self.index_label_position = index_label_position\n",
    "\n",
    "    def forward(self, input: Tensor, target: Tensor,label: Tensor , mask: Optional[Tensor] = None) -> Tensor:\n",
    "        loss = self._binary_class(input, target,label, mask=mask)\n",
    "\n",
    "        if self.reduction == \"mean\":\n",
    "            return loss.mean()\n",
    "        if self.reduction == \"sum\":\n",
    "            return loss.sum()\n",
    "        return loss\n",
    "\n",
    "    def _compute_dice_loss(self, flat_input, flat_target):\n",
    "        flat_input = ((1 - flat_input) ** self.alpha) * flat_input\n",
    "        interection = torch.sum(flat_input * flat_target, -1)\n",
    "        if not self.square_denominator:\n",
    "            loss = 1 - ((2 * interection + self.smooth) /\n",
    "                        (flat_input.sum() + flat_target.sum() + self.smooth))\n",
    "        else:\n",
    "            loss = 1 - ((2 * interection + self.smooth) /\n",
    "                        (torch.sum(torch.square(flat_input, ), -1) + torch.sum(torch.square(flat_target), -1) + self.smooth))\n",
    "\n",
    "        return loss\n",
    "\n",
    "    def _binary_class(self, input, target, label, mask=None):\n",
    "        batchsize = input.size(0)\n",
    "        flat_input = input.view(batchsize, -1)\n",
    "        flat_target = target.view(batchsize, -1).float()\n",
    "\n",
    "        flat_input = torch.sigmoid(flat_input) if self.with_logits else flat_input\n",
    "        print(flat_input.shape)\n",
    "        if mask is not None:\n",
    "            mask = mask.float()\n",
    "            flat_input = flat_input * mask\n",
    "            flat_target = flat_target * mask\n",
    "        else:\n",
    "            mask = torch.ones_like(target)\n",
    "\n",
    "        for i in range(batchsize):\n",
    "            if self.ohem_ratios[label[i]] > 0:\n",
    "                pos_example = target[i] > 0.5\n",
    "                neg_example = target[i] <= 0.5\n",
    "                mask_neg_num = mask[i] <= 0.5\n",
    "\n",
    "                pos_num = pos_example.sum() - (pos_example & mask_neg_num).sum()\n",
    "                neg_num = neg_example.sum()\n",
    "                keep_num = min(int(pos_num * self.ohem_ratios[label[i]]), neg_num)\n",
    "                print(flat_input[i].shape,neg_example.shape)\n",
    "                neg_scores = torch.masked_select(flat_input[i], neg_example.bool())\n",
    "                neg_scores_sort, _ = torch.sort(neg_scores, )\n",
    "                threshold = neg_scores_sort[-keep_num+1]\n",
    "                cond = (flat_input[i] > threshold) | pos_example.view(-1)\n",
    "                ohem_mask = torch.where(cond, 1, 0)\n",
    "                flat_input[i] = flat_input[i] * ohem_mask\n",
    "                flat_target[i] = flat_target[i] * ohem_mask\n",
    "\n",
    "        return self._compute_dice_loss(flat_input, flat_target)"
   ]
  },
  {
   "cell_type": "code",
   "execution_count": 48,
   "metadata": {
    "collapsed": true
   },
   "outputs": [
    {
     "name": "stdout",
     "output_type": "stream",
     "text": [
      "tensor([[[0.0582, 0.0152],\n",
      "         [0.2032, 0.0388]],\n",
      "\n",
      "        [[0.4147, 0.0489],\n",
      "         [0.6171, 0.0197]]])\n",
      "tensor([[[0, 0],\n",
      "         [0, 0]],\n",
      "\n",
      "        [[1, 1],\n",
      "         [0, 0]]])\n",
      "tensor([0, 0])\n",
      "torch.Size([2, 4])\n",
      "tensor(0.8244)\n"
     ]
    }
   ],
   "source": []
  },
  {
   "cell_type": "code",
   "execution_count": null,
   "metadata": {},
   "outputs": [],
   "source": []
  }
 ],
 "metadata": {
  "accelerator": "GPU",
  "colab": {
   "provenance": []
  },
  "gpuClass": "standard",
  "kernelspec": {
   "display_name": "Python 3 (ipykernel)",
   "language": "python",
   "name": "python3"
  },
  "language_info": {
   "codemirror_mode": {
    "name": "ipython",
    "version": 3
   },
   "file_extension": ".py",
   "mimetype": "text/x-python",
   "name": "python",
   "nbconvert_exporter": "python",
   "pygments_lexer": "ipython3",
   "version": "3.10.9"
  }
 },
 "nbformat": 4,
 "nbformat_minor": 4
}
