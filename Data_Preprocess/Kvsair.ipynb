{
 "cells": [
  {
   "cell_type": "code",
   "execution_count": null,
   "id": "26d7a67a-fd42-4aa2-8964-6c7127d445fd",
   "metadata": {},
   "outputs": [],
   "source": [
    "import matplotlib.pyplot as plt\n",
    "import os\n",
    "from PIL import Image\n",
    "import numpy as np\n",
    "import json\n",
    "import yaml\n",
    "from tqdm import tqdm\n",
    "from Model.model import Mask_SAM\n",
    "import cv2\n",
    "import torch\n",
    "from einops import repeat"
   ]
  },
  {
   "cell_type": "code",
   "execution_count": 57,
   "id": "25442707-c408-42e7-8523-edc704000f2a",
   "metadata": {
    "scrolled": true
   },
   "outputs": [],
   "source": [
    "traintxt = []\n",
    "with open('../kvasir-instrument/train.txt', 'r') as file:\n",
    "    for line in file:\n",
    "        traintxt.append(line.strip())"
   ]
  },
  {
   "cell_type": "code",
   "execution_count": 58,
   "id": "01c4dbc2-1d95-4bae-a93a-5efe8895bb63",
   "metadata": {},
   "outputs": [
    {
     "data": {
      "text/plain": [
       "472"
      ]
     },
     "execution_count": 58,
     "metadata": {},
     "output_type": "execute_result"
    }
   ],
   "source": [
    "len(traintxt)"
   ]
  },
  {
   "cell_type": "code",
   "execution_count": 59,
   "id": "f1776e56-0659-4c9d-bd95-5b29265d544f",
   "metadata": {},
   "outputs": [],
   "source": [
    "testtxt = []\n",
    "with open('../kvasir-instrument/test.txt', 'r') as file:\n",
    "    for line in file:\n",
    "        testtxt.append(line.strip())"
   ]
  },
  {
   "cell_type": "code",
   "execution_count": 60,
   "id": "28b186ec",
   "metadata": {},
   "outputs": [
    {
     "data": {
      "text/plain": [
       "118"
      ]
     },
     "execution_count": 60,
     "metadata": {},
     "output_type": "execute_result"
    }
   ],
   "source": [
    "len(testtxt)"
   ]
  },
  {
   "cell_type": "code",
   "execution_count": 50,
   "id": "f88955b2-8812-4966-af8b-0c030314c120",
   "metadata": {},
   "outputs": [],
   "source": [
    "images = os.listdir('../kvasir-instrument/images')"
   ]
  },
  {
   "cell_type": "code",
   "execution_count": 51,
   "id": "3f3dc857-2cdd-412e-b68b-b522d476713a",
   "metadata": {},
   "outputs": [],
   "source": [
    "masks = os.listdir('../kvasir-instrument/masks')"
   ]
  },
  {
   "cell_type": "code",
   "execution_count": null,
   "id": "903a4194",
   "metadata": {},
   "outputs": [],
   "source": [
    "\n",
    "data_config_p= 'data_config.yml' \n",
    "model_config_p= 'model_config.yml' \n",
    "with open(data_config_p, 'r') as f:\n",
    "        data_config_p = yaml.load(f, Loader=yaml.FullLoader)\n",
    "with open(model_config_p, 'r') as f:\n",
    "    model_config = yaml.load(f, Loader=yaml.FullLoader)\n",
    "model_config['img_size'] = 256\n",
    "model = Mask_SAM(model_config, \"cuda:0\")"
   ]
  },
  {
   "cell_type": "code",
   "execution_count": null,
   "id": "c3b40ec2",
   "metadata": {},
   "outputs": [],
   "source": [
    "def extract_features(model, impath):\n",
    "    img = Image.open('../kvasir-instrument/images/' + impath + '.jpg')\n",
    "    img = np.array(img.convert('RGB'))\n",
    "    img = cv2.resize(img, (model.img_size, model.img_size), interpolation=cv2.INTER_CUBIC)\n",
    "    img = (img / 255.0).astype(np.float32)\n",
    "    img = torch.as_tensor(img).permute(2,0,1)\n",
    "    if img.dim() == 2: # for gray image\n",
    "        img = img.unsqueeze(0)\n",
    "        img = repeat(img, 'c h w -> (repeat c) h w', repeat=3)\n",
    "    with torch.no_grad():\n",
    "        img_embeddings = model.sam.image_encoder(img.unsqueeze(0).to(model.device)).detach().cpu().numpy()\n",
    "    return img_embeddings\n",
    "def GetImageFeatures(Train_Cache,model):\n",
    "    features = []\n",
    "    for impath in tqdm(Train_Cache):\n",
    "        features.append(extract_features(model,impath)[0])\n",
    "    return np.array(features)\n",
    "def ComputeMostDifference(features):\n",
    "    sum_of_loss = []\n",
    "    for i in tqdm(range(features.shape[0])):\n",
    "        s = 0\n",
    "        for j in range(features.shape[0]):\n",
    "            if i == j:\n",
    "                continue\n",
    "            else:\n",
    "                s += np.mean((features[i] - features[j]) ** 2) \n",
    "        sum_of_loss.append(s)\n",
    "    return np.array(sum_of_loss)"
   ]
  },
  {
   "cell_type": "code",
   "execution_count": null,
   "id": "a0188ae5",
   "metadata": {},
   "outputs": [],
   "source": [
    "print(\"GetFeatures...\")\n",
    "Features = GetImageFeatures(traintxt,model)\n",
    "print(\"ComputeMostDifference...\")\n",
    "Diff = ComputeMostDifference(Features)\n",
    "print(\"CollectData...\")\n",
    "sorted_indices = np.argsort(-Diff)\n",
    "np.savez(\"/home/kappa7077/kvasir-instrument/Priority.npz\",indices=sorted_indices)"
   ]
  },
  {
   "cell_type": "code",
   "execution_count": null,
   "id": "cfc19ce4",
   "metadata": {},
   "outputs": [],
   "source": [
    "sorted_indices = np.load(\"/home/kappa7077/kvasir-instrument/Priority.npz\")['indices']\n",
    "sorted_indices"
   ]
  },
  {
   "cell_type": "code",
   "execution_count": 83,
   "id": "96d7a37b",
   "metadata": {},
   "outputs": [
    {
     "name": "stdout",
     "output_type": "stream",
     "text": [
      "{6: 30, 7: 19, 10: 39, 11: 28, 12: 19, 15: 37, 16: 18, 19: 32, 20: 20, 14: 42, 18: 26, 1: 22, 2: 20, 3: 14, 8: 21, 9: 26, 13: 21, 17: 14, 0: 14, 4: 24, 5: 23}\n",
      "69\n"
     ]
    }
   ],
   "source": [
    "from PIL import Image\n",
    "import numpy as np\n",
    "\n",
    "grid = {}\n",
    "output = []\n",
    "def process_image(impath, idx):\n",
    "    # Step 1: Open the image and convert to grayscale\n",
    "    image = Image.open('../kvasir-instrument/masks/' + impath +'.png' ).convert('L')\n",
    "\n",
    "    # Step 2: Resize the image to (255, 255) and convert to NumPy array\n",
    "    image = image.resize((255, 255))\n",
    "    image_array = np.array(image)>0+0\n",
    "\n",
    "    # Step 3: Divide the image into 4x4 regions and compute grid\n",
    "    image_range = set()\n",
    "    for i in range(5):\n",
    "        for j in range(5):\n",
    "            region = image_array[i*51:(i+1)*51, j*51:(j+1)*51]\n",
    "            if np.any(region == 1):\n",
    "                image_range.add(i*4+j)\n",
    "    \n",
    "    if all(grid.get(ir, 0) >= 14 for ir in image_range): \n",
    "        pass\n",
    "    else:\n",
    "        output.append(idx)\n",
    "        for ir in image_range:\n",
    "            grid[ir] = grid.get(ir, 0) + 1\n",
    "#     print(image_range)\n",
    "#     print(grid)\n",
    "\n",
    "for idx in sorted_indices:\n",
    "    process_image(traintxt[idx], idx)\n",
    "print(grid)\n",
    "print(len(output))\n"
   ]
  },
  {
   "cell_type": "code",
   "execution_count": 85,
   "id": "2074e190",
   "metadata": {},
   "outputs": [],
   "source": [
    "np.savez(\"../kvasir-instrument/cache_list.npz\",cache=output)"
   ]
  },
  {
   "cell_type": "code",
   "execution_count": 93,
   "id": "c8423bcf",
   "metadata": {},
   "outputs": [
    {
     "name": "stdout",
     "output_type": "stream",
     "text": [
      "(616, 531)\n",
      "(572, 530)\n",
      "(624, 532)\n",
      "(572, 532)\n",
      "(633, 532)\n",
      "(633, 532)\n",
      "(596, 529)\n",
      "(628, 530)\n",
      "(633, 531)\n",
      "(623, 532)\n",
      "(627, 548)\n",
      "(623, 532)\n",
      "(633, 532)\n",
      "(623, 532)\n",
      "(623, 530)\n",
      "(623, 530)\n",
      "(622, 530)\n",
      "(623, 531)\n",
      "(614, 529)\n",
      "(572, 532)\n",
      "(572, 532)\n",
      "(1210, 1011)\n",
      "(1225, 1013)\n",
      "(571, 532)\n",
      "(571, 532)\n",
      "(768, 576)\n",
      "(1920, 1072)\n",
      "(768, 576)\n",
      "(1920, 1072)\n",
      "(1225, 1015)\n",
      "(720, 576)\n",
      "(1280, 1024)\n",
      "(1280, 1024)\n",
      "(1920, 1072)\n",
      "(768, 576)\n",
      "(618, 532)\n",
      "(1280, 1024)\n",
      "(1349, 1071)\n",
      "(1280, 1024)\n",
      "(1280, 1024)\n",
      "(1920, 1072)\n",
      "(720, 576)\n",
      "(768, 576)\n",
      "(1280, 1024)\n",
      "(1280, 1024)\n",
      "(720, 576)\n",
      "(1280, 1024)\n",
      "(720, 576)\n",
      "(1280, 1024)\n",
      "(768, 576)\n",
      "(1280, 1024)\n",
      "(1280, 1024)\n",
      "(1280, 1024)\n",
      "(1280, 1024)\n",
      "(1280, 1024)\n",
      "(768, 576)\n",
      "(1280, 1024)\n",
      "(1280, 1024)\n",
      "(768, 576)\n",
      "(768, 576)\n",
      "(1280, 1024)\n",
      "(1280, 1024)\n",
      "(768, 576)\n",
      "(1280, 1024)\n",
      "(768, 576)\n",
      "(1280, 1024)\n",
      "(1280, 1024)\n",
      "(1280, 1024)\n",
      "(1280, 1024)\n"
     ]
    },
    {
     "data": {
      "image/png": "[encoded data removed]",
      "text/plain": [
       "<Figure size 1000x1000 with 72 Axes>"
      ]
     },
     "metadata": {},
     "output_type": "display_data"
    }
   ],
   "source": [
    "from PIL import Image\n",
    "import matplotlib.pyplot as plt\n",
    "import math\n",
    "\n",
    "# 打開10張PNG圖像\n",
    "image_paths = []\n",
    "for idx in output:\n",
    "    image_paths.append(traintxt[idx])\n",
    "\n",
    "images = [Image.open('../kvasir-instrument/masks/' + path + '.png') for path in image_paths]\n",
    "\n",
    "# 計算所需的行數和列數\n",
    "num_images = len(images)\n",
    "rows = 8\n",
    "cols = math.ceil(num_images / rows)\n",
    "\n",
    "# 創建一個新的大圖像來排列圖像\n",
    "fig, axes = plt.subplots(rows, cols, figsize=(10, 10))\n",
    "\n",
    "# 將每個圖像添加到對應的軸上\n",
    "for i, ax in enumerate(axes.flat):\n",
    "    if i < num_images:\n",
    "        ax.imshow(images[i])\n",
    "        print(images[i].size)\n",
    "        ax.axis('off')\n",
    "    else:\n",
    "        ax.axis('off')  # 隱藏多餘的軸\n",
    "\n",
    "plt.tight_layout()  # 自動調整子圖間的間距\n",
    "plt.show()"
   ]
  },
  {
   "cell_type": "code",
   "execution_count": 87,
   "id": "e55fe40c-074a-4d8d-a228-86855c1ecb96",
   "metadata": {},
   "outputs": [],
   "source": [
    "train_cache = []\n",
    "train_data = []\n",
    "for i,train_name in enumerate(traintxt):   \n",
    "    cache = []\n",
    "    data = []\n",
    "    \n",
    "    cache.append('images/'+ train_name + '.jpg')\n",
    "    cache.append({'0':'masks/' + train_name + '.png'})\n",
    "    cache.append('')\n",
    "    cache.append(i)\n",
    "\n",
    "    data.append('images/'+ train_name + '.jpg')\n",
    "    data.append(0)\n",
    "    data.append('masks/' + train_name + '.png')\n",
    "    data.append(i)\n",
    "\n",
    "    train_cache.append(cache)\n",
    "    train_data.append(data)"
   ]
  },
  {
   "cell_type": "code",
   "execution_count": 88,
   "id": "4c654904-6623-4864-bba7-f285ce4a0052",
   "metadata": {},
   "outputs": [
    {
     "data": {
      "text/plain": [
       "[['images/ckcvw5yhd000m3b5yutirmiad.jpg',\n",
       "  0,\n",
       "  'masks/ckcvw5yhd000m3b5yutirmiad.png',\n",
       "  0],\n",
       " ['images/ckcvwpanj001b3b5ysxixpcxy.jpg',\n",
       "  0,\n",
       "  'masks/ckcvwpanj001b3b5ysxixpcxy.png',\n",
       "  1],\n",
       " ['images/ckcuhbkeo000z3b5yq7v1sm0o.jpg',\n",
       "  0,\n",
       "  'masks/ckcuhbkeo000z3b5yq7v1sm0o.png',\n",
       "  2],\n",
       " ['images/ckd0afl7u000a3b5y3crqjxla.jpg',\n",
       "  0,\n",
       "  'masks/ckd0afl7u000a3b5y3crqjxla.png',\n",
       "  3],\n",
       " ['images/ckcxb6cne000x3b5ynaznq58f.jpg',\n",
       "  0,\n",
       "  'masks/ckcxb6cne000x3b5ynaznq58f.png',\n",
       "  4]]"
      ]
     },
     "execution_count": 88,
     "metadata": {},
     "output_type": "execute_result"
    }
   ],
   "source": [
    "train_data[0:5]"
   ]
  },
  {
   "cell_type": "code",
   "execution_count": 89,
   "id": "9024fd99-42a0-42c8-bff3-24db2d9e7032",
   "metadata": {},
   "outputs": [],
   "source": [
    "test_cache = []\n",
    "test_data = []\n",
    "for i,test_name in enumerate(testtxt):   \n",
    "    cache = []\n",
    "    data = []\n",
    "    \n",
    "    cache.append('images/'+ test_name + '.jpg')\n",
    "    cache.append({'0':'masks/' + test_name + '.png'})\n",
    "    cache.append('')\n",
    "    cache.append(0)\n",
    "\n",
    "\n",
    "    data.append('images/'+ test_name + '.jpg')\n",
    "    data.append(0)\n",
    "    data.append('masks/' + test_name + '.png')\n",
    "    data.append(0)\n",
    "\n",
    "    test_cache.append(cache)\n",
    "    test_data.append(data)"
   ]
  },
  {
   "cell_type": "code",
   "execution_count": 90,
   "id": "d2985d20-6a6b-430b-914a-c34c4aa8a5e6",
   "metadata": {},
   "outputs": [
    {
     "data": {
      "text/plain": [
       "[['images/ckd4ipizn000d3b5yk2vrbyyz.jpg',\n",
       "  0,\n",
       "  'masks/ckd4ipizn000d3b5yk2vrbyyz.png',\n",
       "  0],\n",
       " ['images/ckcxct8oj000k3b5y9iwia72h.jpg',\n",
       "  0,\n",
       "  'masks/ckcxct8oj000k3b5y9iwia72h.png',\n",
       "  0],\n",
       " ['images/ckd4ig3d700043b5y0p70afjj.jpg',\n",
       "  0,\n",
       "  'masks/ckd4ig3d700043b5y0p70afjj.png',\n",
       "  0],\n",
       " ['images/ckd03in4g001d3b5yngyc734r.jpg',\n",
       "  0,\n",
       "  'masks/ckd03in4g001d3b5yngyc734r.png',\n",
       "  0],\n",
       " ['images/ckcx9nmko001u3b5yopeccdvo.jpg',\n",
       "  0,\n",
       "  'masks/ckcx9nmko001u3b5yopeccdvo.png',\n",
       "  0]]"
      ]
     },
     "execution_count": 90,
     "metadata": {},
     "output_type": "execute_result"
    }
   ],
   "source": [
    "test_data[:5]"
   ]
  },
  {
   "cell_type": "code",
   "execution_count": null,
   "id": "d710c05c-7f4e-45c0-a851-023d267d168e",
   "metadata": {},
   "outputs": [],
   "source": [
    "mask = np.load('masks/ckd03in4g001d3b5yngyc734r.npz')['image']\n",
    "plt.imshow(mask)"
   ]
  },
  {
   "cell_type": "code",
   "execution_count": 41,
   "id": "8b37959e-9ad5-4de1-bccf-1069031286c9",
   "metadata": {},
   "outputs": [
    {
     "data": {
      "text/plain": [
       "3068"
      ]
     },
     "execution_count": 41,
     "metadata": {},
     "output_type": "execute_result"
    }
   ],
   "source": [
    "len(test_data)"
   ]
  },
  {
   "cell_type": "code",
   "execution_count": 91,
   "id": "18fb2572-871e-45be-8446-1297731a02ed",
   "metadata": {},
   "outputs": [],
   "source": [
    "cache = {\n",
    "    'train': train_cache,\n",
    "    'test': test_cache,\n",
    "    'val' : ''\n",
    "}\n",
    "data = {\n",
    "    'train': train_data,\n",
    "    'test': test_data,\n",
    "    'val' : ''\n",
    "}"
   ]
  },
  {
   "cell_type": "code",
   "execution_count": 92,
   "id": "8b50a728-6c7c-4c1b-bb10-0d47905555d1",
   "metadata": {},
   "outputs": [],
   "source": [
    "with open('../kvasir-instrument/cache.json', 'w') as file:\n",
    "    json.dump(cache, file, indent=4)\n",
    "with open('../kvasir-instrument/data.json', 'w') as file:\n",
    "    json.dump(data, file, indent=4)"
   ]
  },
  {
   "cell_type": "code",
   "execution_count": null,
   "id": "7f6f2241-849e-4e47-bdab-746450a4b321",
   "metadata": {},
   "outputs": [],
   "source": [
    "import torch\n",
    "import torch.nn as nn\n",
    "import torch.nn.functional as F\n",
    "\n",
    "class BinaryFocalLoss(nn.Module):\n",
    "    def __init__(self, alpha=3, gamma=3, loss_weight=None, reduction='mean', **kwargs):\n",
    "        super(BinaryFocalLoss, self).__init__()\n",
    "        self.alpha = alpha\n",
    "        self.gamma = gamma\n",
    "        self.smooth = 1e-6\n",
    "        self.loss_weight = loss_weight\n",
    "        self.reduction = reduction\n",
    "\n",
    "        assert self.reduction in ['none', 'mean', 'sum']\n",
    "\n",
    "    def forward(self, output, target, labels, label_weight):\n",
    "        prob = torch.sigmoid(output)\n",
    "        prob = torch.clamp(prob, self.smooth, 1.0 - self.smooth)\n",
    "        weight_for_loss = label_weight[labels]\n",
    "        print(weight_for_loss)\n",
    "        pos_mask = (target == 1).float()\n",
    "        neg_mask = (target == 0).float()\n",
    "\n",
    "        pos_weight = (pos_mask * torch.pow(1 - prob, self.gamma)).detach()\n",
    "        pos_loss = -pos_weight * torch.log(prob)\n",
    "\n",
    "        neg_weight = (neg_mask * torch.pow(prob, self.gamma)).detach()\n",
    "        neg_loss = -self.alpha * neg_weight * F.logsigmoid(-output)\n",
    "        \n",
    "        # Weighted sum of positive and negative losses using labels and loss_weight\n",
    "        pos_loss_weighted = torch.sum(pos_loss * weight_for_loss , dim=0)\n",
    "        neg_loss_weighted = torch.sum(neg_loss * weight_for_loss , dim=0)\n",
    "        print(pos_loss)\n",
    "        print(pos_loss_weighted)\n",
    "        print(neg_loss)\n",
    "        print(neg_loss_weighted)\n",
    "        loss = pos_loss_weighted + neg_loss_weighted\n",
    "\n",
    "        if self.reduction == 'mean':\n",
    "            loss = loss.mean()\n",
    "        elif self.reduction == 'sum':\n",
    "            loss = loss.sum()\n",
    "\n",
    "        return loss\n",
    "\n",
    "# Example usage:\n",
    "loss_function = BinaryFocalLoss()\n",
    "\n",
    "output = torch.randn(5, 1)  # Example output tensor, shape: (batch_size, 1)\n",
    "target = torch.randint(0, 2, (5, 1))  # Example target tensor, shape: (batch_size, 1)\n",
    "labels = torch.randint(0, 3,(5, 1))  # Example label tensor, shape: (batch_size, 1)\n",
    "print(labels)\n",
    "loss_weight = torch.randn(3, 1)  # Example loss_weight tensor, shape: (batch_size, 1)\n",
    "print(f'loss weight\\n:{loss_weight}')\n",
    "loss = loss_function(output, target, labels, loss_weight)\n",
    "print(loss)"
   ]
  },
  {
   "cell_type": "code",
   "execution_count": null,
   "id": "266e712c",
   "metadata": {},
   "outputs": [],
   "source": [
    "labels = torch.randint(0, 3,(5, 1)) \n",
    "label_weight = torch.randn(3, 1)\n",
    "print(labels)\n",
    "print(label_weight)"
   ]
  },
  {
   "cell_type": "code",
   "execution_count": null,
   "id": "aa2a22b1",
   "metadata": {},
   "outputs": [],
   "source": [
    "import torch\n",
    "\n",
    "# 你的 labels 和 label_weight\n",
    "labels = torch.randint(0, 3, (5, 1))\n",
    "label_weight = torch.randn(3, 1)\n",
    "\n",
    "# 使用 gather 函數選取對應的權重\n",
    "weight_for_loss = label_weight.gather(0, labels)\n",
    "\n",
    "# 現在你可以使用 weight_for_loss 與你的 loss 做 element-wise 的相乘\n",
    "# 假設你的 loss 是一個與 weight_for_loss 形狀相同的 tensor\n",
    "loss = torch.randn(5, 1)\n",
    "weighted_loss = loss * weight_for_loss"
   ]
  },
  {
   "cell_type": "code",
   "execution_count": null,
   "id": "cc9e0a81",
   "metadata": {},
   "outputs": [],
   "source": [
    "print(labels)\n",
    "print(label_weight)\n",
    "print(weight_for_loss)\n",
    "print(loss)\n",
    "print(weighted_loss)"
   ]
  },
  {
   "cell_type": "code",
   "execution_count": null,
   "id": "631c543f",
   "metadata": {},
   "outputs": [],
   "source": []
  }
 ],
 "metadata": {
  "kernelspec": {
   "display_name": "MaskSam",
   "language": "python",
   "name": "masksam"
  },
  "language_info": {
   "codemirror_mode": {
    "name": "ipython",
    "version": 3
   },
   "file_extension": ".py",
   "mimetype": "text/x-python",
   "name": "python",
   "nbconvert_exporter": "python",
   "pygments_lexer": "ipython3",
   "version": "3.11.8"
  }
 },
 "nbformat": 4,
 "nbformat_minor": 5
}
